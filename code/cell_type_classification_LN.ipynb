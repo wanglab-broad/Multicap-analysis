{
 "cells": [
  {
   "cell_type": "markdown",
   "id": "7fb79450-0a7d-403e-bd9c-0889e77410ff",
   "metadata": {},
   "source": [
    "# Cell type classification for LN dataset\n",
    "\n",
    "2024-06-05"
   ]
  },
  {
   "cell_type": "code",
   "execution_count": null,
   "id": "8ae9510b-3e92-415e-badc-5396b41e256a",
   "metadata": {},
   "outputs": [],
   "source": [
    "# import packages\n",
    "import os\n",
    "import numpy as np\n",
    "import pandas as pd\n",
    "import seaborn as sns\n",
    "import scanpy as sc\n",
    "import matplotlib.pyplot as plt\n",
    "from matplotlib.colors import ListedColormap\n",
    "from sklearn.cluster import KMeans"
   ]
  },
  {
   "cell_type": "code",
   "execution_count": null,
   "id": "06ecfdb4-a61a-427a-9e9e-ba9e2573b4a1",
   "metadata": {},
   "outputs": [],
   "source": [
    "# ignore jupyter warnings \n",
    "import warnings\n",
    "warnings.filterwarnings('ignore')"
   ]
  },
  {
   "cell_type": "code",
   "execution_count": null,
   "id": "a700bc90-02a6-4a87-97f9-220a8fb82782",
   "metadata": {},
   "outputs": [],
   "source": [
    "# customized functions \n",
    "def plot_cluster_frequency(adata, groupby='level_1', hue='condition', norm_dict=None, fname=None, legend_loc='best'): \n",
    "    \n",
    "    plot_df = pd.DataFrame(adata.obs.groupby(groupby)[hue].value_counts().values)\n",
    "    plot_df.columns = ['counts']\n",
    "    plot_df[groupby] = [i[0] for i in adata.obs.groupby(groupby)[hue].value_counts().index]\n",
    "    plot_df[hue] = [i[1] for i in adata.obs.groupby(groupby)[hue].value_counts().index]\n",
    "    \n",
    "    plot_df[hue] = plot_df[hue].astype('category')\n",
    "    plot_df[hue] = plot_df[hue].cat.reorder_categories(adata.obs[hue].cat.categories)\n",
    "    plot_df['counts'] = plot_df['counts'].astype(np.float)\n",
    "\n",
    "    if norm_dict:\n",
    "        plot_df['total_counts'] = plot_df[hue].values\n",
    "        plot_df['total_counts'] = plot_df['total_counts'].map(norm_dict)\n",
    "        plot_df['total_counts'] = plot_df['total_counts'].astype(np.float)\n",
    "        plot_df['percentage'] = plot_df['counts'] / plot_df['total_counts'] * 100\n",
    "\n",
    "    if norm_dict:\n",
    "        sns.barplot(x=groupby, y='percentage', hue=hue, data=plot_df)\n",
    "    else:\n",
    "        sns.barplot(x=groupby, y='counts', hue=hue, data=plot_df)\n",
    "    \n",
    "    plt.xticks(rotation=45)\n",
    "    plt.legend(loc=legend_loc)\n",
    "    if fname:\n",
    "        plt.savefig(os.path.join(output_path, fname))\n",
    "    plt.show()"
   ]
  },
  {
   "cell_type": "markdown",
   "id": "86a6ea42-73d0-4693-8ea5-4bb8a2a544cb",
   "metadata": {},
   "source": [
    "## Input"
   ]
  },
  {
   "cell_type": "code",
   "execution_count": null,
   "id": "4f14f28d-e3eb-4fc1-ad9f-34d5be8d42a7",
   "metadata": {
    "editable": true,
    "slideshow": {
     "slide_type": ""
    },
    "tags": []
   },
   "outputs": [],
   "source": [
    "# define IO path and load data object\n",
    "base_path = './'\n",
    "expr_path = os.path.join(base_path, 'data')\n",
    "\n",
    "output_path = os.path.join(base_path, 'output')\n",
    "if not os.path.exists(output_path): os.makedirs(output_path)\n",
    "fig_path = os.path.join(base_path, \"figures\")\n",
    "if not os.path.exists(fig_path): os.makedirs(fig_path)\n",
    "    \n",
    "cdata = sc.read_h5ad(os.path.join(expr_path, f'combined-raw.h5ad'))\n",
    "cdata"
   ]
  },
  {
   "cell_type": "markdown",
   "id": "652bc4bb-a55a-4dd7-9914-d657ca19cd19",
   "metadata": {},
   "source": [
    "## Preprocessing"
   ]
  },
  {
   "cell_type": "code",
   "execution_count": null,
   "id": "05f18cc6-e01f-4ade-a7ee-f7f1e62a4d91",
   "metadata": {},
   "outputs": [],
   "source": [
    "# calculate generate qc metrics\n",
    "sc.pp.calculate_qc_metrics(cdata, inplace=True, percent_top=None)"
   ]
  },
  {
   "cell_type": "code",
   "execution_count": null,
   "id": "7eba4c70-2a16-4ccd-8022-2d896335cd14",
   "metadata": {},
   "outputs": [],
   "source": [
    "# reads count filtering \n",
    "sc.pp.filter_cells(cdata, min_counts=2)\n",
    "sc.pp.filter_cells(cdata, min_genes=2)\n",
    "cdata"
   ]
  },
  {
   "cell_type": "code",
   "execution_count": null,
   "id": "8307de61-152a-4e39-a283-2d6d9e0ebcac",
   "metadata": {},
   "outputs": [],
   "source": [
    "# check out number of cells under each condition\n",
    "cdata.obs['condition'].value_counts()"
   ]
  },
  {
   "cell_type": "code",
   "execution_count": null,
   "id": "368c2280-963d-484a-8b91-49fd1eaeae76",
   "metadata": {},
   "outputs": [],
   "source": [
    "# preprocessing\n",
    "sc.pp.normalize_total(cdata)\n",
    "sc.pp.log1p(cdata)\n",
    "cdata.raw = cdata\n",
    "sc.pp.scale(cdata)\n",
    "cdata.layers['scaled'] = cdata.X.copy()"
   ]
  },
  {
   "cell_type": "code",
   "execution_count": null,
   "id": "3283a7da-cf62-459b-ac2a-112bd92b229a",
   "metadata": {},
   "outputs": [],
   "source": [
    "# visualize general qc metrics\n",
    "fig, axs = plt.subplots(1, 2, figsize=(10, 5))\n",
    "sns.boxplot(y='total_counts', x='sample', hue='sample', data=cdata.obs, ax=axs[0])\n",
    "sns.boxplot(y='n_genes_by_counts', x='sample', hue='sample', data=cdata.obs, ax=axs[1])\n",
    "fig.autofmt_xdate(rotation=45)\n",
    "plt.show()"
   ]
  },
  {
   "cell_type": "code",
   "execution_count": null,
   "id": "8d67a1dd-af34-4230-815b-d46cf8177ffb",
   "metadata": {},
   "outputs": [],
   "source": [
    "fig, axs = plt.subplots(1, 2, figsize=(10, 5))\n",
    "sns.boxplot(y='total_counts', x='condition', hue='condition', data=cdata.obs, ax=axs[0])\n",
    "sns.boxplot(y='n_genes_by_counts', x='condition', hue='condition', data=cdata.obs, ax=axs[1])\n",
    "plt.show()"
   ]
  },
  {
   "cell_type": "markdown",
   "id": "59303dc9-4260-4ede-9d0a-78f19b264b1e",
   "metadata": {},
   "source": [
    "## Kmeans clustering"
   ]
  },
  {
   "cell_type": "markdown",
   "id": "155a6ea8-7b32-4ea6-a0bd-6c6887ad40d5",
   "metadata": {},
   "source": [
    "### Level 1"
   ]
  },
  {
   "cell_type": "code",
   "execution_count": null,
   "id": "04ce2cac-61bd-4e41-a9e7-ff9cab039077",
   "metadata": {},
   "outputs": [],
   "source": [
    "# load gene annotation table\n",
    "gene_annotation = pd.read_csv(os.path.join(base_path, 'documents', 'gene_annotation.csv'))\n",
    "gene_annotation.index = gene_annotation['Gene']\n",
    "selected_genes = gene_annotation.loc[gene_annotation['Level_1_binary'] == True, 'Gene'].to_list()\n",
    "level_1_order = gene_annotation.loc[gene_annotation['Level_1_binary'] == True, 'Level_1_annotation'].unique()\n",
    "\n",
    "print(f\"Selected genes: {len(selected_genes)}\")\n",
    "print(level_1_order)"
   ]
  },
  {
   "cell_type": "code",
   "execution_count": null,
   "id": "0d5d3d04-1627-42e5-a3d2-c8f14f130051",
   "metadata": {},
   "outputs": [],
   "source": [
    "# check out level 1 gene markers \n",
    "gene_annotation.loc[gene_annotation['Level_1_binary'] == True, :]"
   ]
  },
  {
   "cell_type": "code",
   "execution_count": null,
   "id": "fae98b0e-522d-4169-8fdc-c7425e5b3795",
   "metadata": {},
   "outputs": [],
   "source": [
    "# create gene marker dictionary\n",
    "selected_gene_dict = {}\n",
    "for current_type in level_1_order:\n",
    "    selected_gene_dict[current_type] = gene_annotation.loc[(gene_annotation['Level_1_binary'] == True) & (gene_annotation['Level_1_annotation'] == current_type), 'Gene'].to_list()\n",
    "\n",
    "selected_gene_dict"
   ]
  },
  {
   "cell_type": "code",
   "execution_count": null,
   "id": "7a1ed0d8-94fd-4a86-872d-b52d08126f4a",
   "metadata": {},
   "outputs": [],
   "source": [
    "# subset gene expression profile with selected gene markers\n",
    "sdata = cdata[:, selected_genes]\n",
    "sdata"
   ]
  },
  {
   "cell_type": "code",
   "execution_count": null,
   "id": "f90c8945-dfb5-49f9-9527-f24f9810a633",
   "metadata": {},
   "outputs": [],
   "source": [
    "# kmeans clustering\n",
    "k = 34\n",
    "kmeans = KMeans(n_clusters=k, random_state=5).fit(sdata.X)\n",
    "sdata.obs[f'kmeans{k}'] = kmeans.labels_.astype(str)\n",
    "\n",
    "# visualize clusters with gene markers\n",
    "sc.pl.heatmap(sdata, selected_gene_dict, groupby=f'kmeans{k}', dendrogram=False, use_raw=False, cmap='bwr', vmin=-4, vmax=4)\n",
    "sc.pl.matrixplot(sdata, selected_gene_dict, groupby=f'kmeans{k}', dendrogram=False, use_raw=False, cmap='bwr', vmin=-4, vmax=4, swap_axes=True)"
   ]
  },
  {
   "cell_type": "markdown",
   "id": "66742e36-06ba-4676-895f-b173dbc9188d",
   "metadata": {},
   "source": [
    "#### Assign cell types"
   ]
  },
  {
   "cell_type": "code",
   "execution_count": null,
   "id": "74b4fb09-6154-4bcb-8f8c-df7f63ccfa5a",
   "metadata": {},
   "outputs": [],
   "source": [
    "# create backup for kmeans label\n",
    "sdata.obs['level_1'] = sdata.obs[f'kmeans{k}'].values"
   ]
  },
  {
   "cell_type": "code",
   "execution_count": null,
   "id": "30e03a65-4455-4846-aef8-4d5ab9696e57",
   "metadata": {},
   "outputs": [],
   "source": [
    "# change cluster label to cell type label\n",
    "transfer_dict_l1 = {}\n",
    "\n",
    "# Level_1\n",
    "level_1_list = [\n",
    "    'T cells', #0\n",
    "    'T cells', #1\n",
    "    'B cells', #2\n",
    "    'NK cells', #3\n",
    "    'NA', #4\n",
    "    'B cells', #5 \n",
    "    'Macrophages', #6\n",
    "    'Macrophages', #7\n",
    "    'Dendritic cells', #8\n",
    "    'T cells', #9\n",
    "    'Endothelial cells', #10 \n",
    "    'Dendritic cells', #11\n",
    "    'Macrophages', #12\n",
    "    'Dendritic cells', #13\n",
    "    'B cells', #14\n",
    "    'Macrophages', #15\n",
    "    'Endothelial cells', #16\n",
    "    'Dendritic cells', #17\n",
    "    'NK cells', #18\n",
    "    'Macrophages', #19\n",
    "    'NK cells', #20\n",
    "    'B cells', #21\n",
    "    'Macrophages', #22\n",
    "    'B cells', #23\n",
    "    'T cells', #24\n",
    "    'Endothelial cells', #25\n",
    "    'Macrophages', #26\n",
    "    'NK cells', #27\n",
    "    'Endothelial cells', #28\n",
    "    'Macrophages', #29\n",
    "    'Endothelial cells', #30\n",
    "    'Endothelial cells', #31\n",
    "    'Dendritic cells', #32\n",
    "    'Dendritic cells', #33\n",
    "]\n",
    "\n",
    "# construct transfer dict\n",
    "for i in sorted(sdata.obs[f'kmeans{k}'].unique()):\n",
    "    transfer_dict_l1[i] = level_1_list[int(i)]"
   ]
  },
  {
   "cell_type": "code",
   "execution_count": null,
   "id": "e91a381d-f412-4387-b3fa-b42c531bd86c",
   "metadata": {},
   "outputs": [],
   "source": [
    "# assign cell type to sdata\n",
    "sdata.obs = sdata.obs.replace({'level_1': transfer_dict_l1})"
   ]
  },
  {
   "cell_type": "code",
   "execution_count": null,
   "id": "792ab94a-477b-487a-85cc-28440ffbd5c9",
   "metadata": {},
   "outputs": [],
   "source": [
    "# create variable category for level 1 annotation \n",
    "level_1_order = ['T cells', 'B cells', 'Macrophages', 'Dendritic cells', 'NK cells', 'Endothelial cells', 'NA']\n",
    "sdata.obs['level_1'] = sdata.obs['level_1'].astype('category')\n",
    "sdata.obs['level_1'] = sdata.obs['level_1'].cat.reorder_categories(level_1_order)"
   ]
  },
  {
   "cell_type": "code",
   "execution_count": null,
   "id": "0982cec9-fffb-4f67-8213-2e71375fe5ff",
   "metadata": {},
   "outputs": [],
   "source": [
    "# create color palette for visualization\n",
    "level_1_pl = sns.color_palette(['#00A651', '#FBB040', '#92278F', '#03a5fc', '#386363', '#d12852', '#dbdbdb'])\n",
    "level_1_cmap = ListedColormap(level_1_pl.as_hex())\n",
    "sns.palplot(level_1_pl)\n",
    "plt.xticks(range(len(level_1_order)), level_1_order, size=10, rotation=45)\n",
    "plt.tight_layout()\n",
    "# plt.savefig(os.path.join(fig_path, 'level_2_palette.pdf'))\n",
    "plt.show()"
   ]
  },
  {
   "cell_type": "code",
   "execution_count": null,
   "id": "c5bbc7e9-3f5d-45e3-9202-82b0ce35d6a0",
   "metadata": {},
   "outputs": [],
   "source": [
    "# visualize cluster frequency under each condition\n",
    "condition_counts =  pd.DataFrame(sdata.obs['condition'].value_counts())\n",
    "condition_counts_dict = dict(zip(condition_counts.index, condition_counts['count']))\n",
    "\n",
    "plot_cluster_frequency(sdata, groupby='level_1', hue='condition', )\n",
    "plot_cluster_frequency(sdata, groupby='level_1', hue='condition', norm_dict=condition_counts_dict, )"
   ]
  },
  {
   "cell_type": "code",
   "execution_count": null,
   "id": "566ddb57-ac0e-4a10-aa43-09d2cd4d65b9",
   "metadata": {},
   "outputs": [],
   "source": [
    "# visualize cluster frequency of each sample\n",
    "sample_counts =  pd.DataFrame(sdata.obs['sample'].value_counts())\n",
    "sample_counts_dict = dict(zip(sample_counts.index, sample_counts['count']))\n",
    "\n",
    "plot_cluster_frequency(sdata, groupby='level_1', hue='sample', )\n",
    "plot_cluster_frequency(sdata, groupby='level_1', hue='sample', norm_dict=sample_counts_dict, )"
   ]
  },
  {
   "cell_type": "code",
   "execution_count": null,
   "id": "befd47eb-158c-48fb-a40b-9545d6506d22",
   "metadata": {},
   "outputs": [],
   "source": [
    "# create gene marker dictionary for visualization\n",
    "selected_gene_dict = {}\n",
    "for current_type in level_1_order:\n",
    "    if current_type != 'NA':\n",
    "        selected_gene_dict[current_type] = gene_annotation.loc[(gene_annotation['Level_1_binary'] == True) & (gene_annotation['Level_1_annotation'] == current_type), 'Gene'].to_list()\n",
    "\n",
    "selected_gene_dict"
   ]
  },
  {
   "cell_type": "code",
   "execution_count": null,
   "id": "c95f2f6b-78b7-4acb-8b6e-f51b7d3c44d4",
   "metadata": {},
   "outputs": [],
   "source": [
    "# generate gene marker heatmap for level 1 annotation\n",
    "sc.pl.heatmap(sdata, selected_gene_dict, groupby=f'level_1', dendrogram=False, use_raw=False, cmap='bwr', vmin=-4, vmax=4)\n",
    "sc.pl.matrixplot(sdata, selected_gene_dict, groupby=f'level_1', dendrogram=False, use_raw=False, cmap='bwr', vmin=-4, vmax=4, swap_axes=True)"
   ]
  },
  {
   "cell_type": "code",
   "execution_count": null,
   "id": "6e314090-c254-4a2e-b145-35c5fba33d9b",
   "metadata": {
    "scrolled": true
   },
   "outputs": [],
   "source": [
    "# visualize spatial organization of each sample \n",
    "for current_sample in sdata.obs['sample'].cat.categories:\n",
    "    print(current_sample)\n",
    "    current_complete_obs = cdata.obs.loc[cdata.obs['sample'] == current_sample, :]\n",
    "    current_obs = sdata.obs.loc[sdata.obs['sample'] == current_sample, :]\n",
    "    \n",
    "    fig_size = np.array([current_complete_obs['global_x'].max(), current_complete_obs['global_y'].max()]) / 1000\n",
    "    fig, ax = plt.subplots(figsize=fig_size)\n",
    "    sns.scatterplot(x='global_x', y='global_y', data=current_complete_obs, color='#dbdbdb', s=1, linewidth=0, ax=ax)\n",
    "    sns.scatterplot(x='global_x', y='global_y', hue='level_1', data=current_obs, palette=level_1_pl, s=1, linewidth=0, ax=ax)\n",
    "    plt.legend(markerscale=5)\n",
    "    # plt.savefig(os.path.join(fig_path, f\"sct_{current_sample}_LN.png\"))\n",
    "    plt.show()"
   ]
  },
  {
   "cell_type": "code",
   "execution_count": null,
   "id": "f02010d4-80bf-423d-a2c6-9be3169fc0c8",
   "metadata": {},
   "outputs": [],
   "source": [
    "# map the annotation to origianl object\n",
    "cdata.obs['level_1'] = 'NA'\n",
    "cdata.obs['level_1'] = cdata.obs['level_1'].astype(object)\n",
    "cdata.obs.loc[sdata.obs.index, 'level_1'] = sdata.obs['level_1'].values\n",
    "cdata.obs['level_1'].unique()"
   ]
  },
  {
   "cell_type": "code",
   "execution_count": null,
   "id": "bf60441b-c872-49ba-bfb8-7a6fdc0e811a",
   "metadata": {},
   "outputs": [],
   "source": [
    "# backup data object (optional)\n",
    "# from datetime import datetime\n",
    "# date = datetime.today().strftime('%Y-%m-%d')\n",
    "# cdata.write_h5ad(f\"{output_path}/{date}-combined-celltyping-LN.h5ad\")"
   ]
  },
  {
   "cell_type": "markdown",
   "id": "74c757a2-022b-4d16-8f4a-03deed48be34",
   "metadata": {},
   "source": [
    "### Level 2 "
   ]
  },
  {
   "cell_type": "code",
   "execution_count": null,
   "id": "3bbd5d4e-6127-47d3-b14e-53c652838b79",
   "metadata": {},
   "outputs": [],
   "source": [
    "# create an empty column for level 2\n",
    "cdata.obs['level_2'] = cdata.obs['level_1'].values\n",
    "cdata.obs['level_2'] = cdata.obs['level_2'].astype(object)"
   ]
  },
  {
   "cell_type": "markdown",
   "id": "8106031d-e92f-4ef6-a0d2-874e1092b3b8",
   "metadata": {},
   "source": [
    "#### T cells"
   ]
  },
  {
   "cell_type": "code",
   "execution_count": null,
   "id": "d6e0733e-fd62-4771-b91f-b143ff251f9c",
   "metadata": {},
   "outputs": [],
   "source": [
    "# create gene marker dictionary for classifing t cells \n",
    "current_order = ['CD3+', 'CD3-']\n",
    "selected_genes = ['Cd3e', 'Cd3d', 'Cd3g', 'Cd4', 'Cd8a']\n",
    "print(f\"Selected genes: {len(selected_genes)}\")\n",
    "print(current_order)"
   ]
  },
  {
   "cell_type": "code",
   "execution_count": null,
   "id": "9dd09fe7-f0f8-4eb2-8d2a-2a8e7f5e6058",
   "metadata": {},
   "outputs": [],
   "source": [
    "selected_gene_dict = {'CD3+': selected_genes}\n",
    "selected_gene_dict"
   ]
  },
  {
   "cell_type": "code",
   "execution_count": null,
   "id": "21489ff1-99b3-4cff-892f-3d604be9de44",
   "metadata": {},
   "outputs": [],
   "source": [
    "# subset data\n",
    "sdata = cdata[cdata.obs['level_1'] == 'T cells', selected_genes]\n",
    "sdata"
   ]
  },
  {
   "cell_type": "code",
   "execution_count": null,
   "id": "02331ce9-dfa6-44b2-8b82-675283a0783e",
   "metadata": {},
   "outputs": [],
   "source": [
    "# kmeans elbow\n",
    "distorsions = []\n",
    "for k in range(2, 20):\n",
    "    kmeans = KMeans(n_clusters=k)\n",
    "    kmeans.fit(sdata.X)\n",
    "    distorsions.append(kmeans.inertia_)\n",
    "\n",
    "fig = plt.figure(figsize=(15, 5))\n",
    "plt.plot(range(2, 20), distorsions)\n",
    "plt.grid(True)\n",
    "plt.title('Elbow curve')"
   ]
  },
  {
   "cell_type": "code",
   "execution_count": null,
   "id": "32dfb648-58d6-497f-98de-d3436b55dcb6",
   "metadata": {},
   "outputs": [],
   "source": [
    "# kmeans\n",
    "k = 10\n",
    "kmeans = KMeans(n_clusters=k, random_state=10).fit(sdata.X)\n",
    "sdata.obs[f'kmeans{k}'] = kmeans.labels_.astype(str)\n",
    "\n",
    "sc.pl.heatmap(sdata, selected_gene_dict, groupby=f'kmeans{k}', dendrogram=False, use_raw=False, cmap='bwr', vmin=-4, vmax=4)\n",
    "sc.pl.matrixplot(sdata, selected_gene_dict, groupby=f'kmeans{k}', dendrogram=False, use_raw=False, cmap='bwr', vmin=-4, vmax=4, swap_axes=True)\n",
    "sc.pl.matrixplot(sdata, selected_gene_dict, groupby=f'kmeans{k}', dendrogram=False, use_raw=True, vmax=2, swap_axes=True)"
   ]
  },
  {
   "cell_type": "markdown",
   "id": "51a3ce37-e3ea-4b4b-8589-d85fe8195ce3",
   "metadata": {},
   "source": [
    "##### Assign cell types"
   ]
  },
  {
   "cell_type": "code",
   "execution_count": null,
   "id": "0a58e70a-9105-4b09-8ce2-2c3195325d77",
   "metadata": {},
   "outputs": [],
   "source": [
    "# create backup for kmeans label\n",
    "sdata.obs['level_2'] = sdata.obs[f'kmeans{k}'].values"
   ]
  },
  {
   "cell_type": "code",
   "execution_count": null,
   "id": "aa111f99-3cd6-498a-bb21-3b4d5b69d971",
   "metadata": {},
   "outputs": [],
   "source": [
    "# change cluster label to cell type label\n",
    "transfer_dict_l2 = {}\n",
    "\n",
    "# Level_2\n",
    "level_2_list = [\n",
    "    'T cells', #0\n",
    "    'T cells', #1\n",
    "    'CD4+ T cells', #2\n",
    "    'T cells', #3\n",
    "    'T cells', #4\n",
    "    'NA', #5\n",
    "    'CD8+ T cells', #6\n",
    "    'CD4+ T cells', #7\n",
    "    'T cells', #8\n",
    "    'T cells', #9\n",
    "    \n",
    "]\n",
    "\n",
    "# construct transfer dict\n",
    "for i in sorted(sdata.obs[f'kmeans{k}'].unique()):\n",
    "    transfer_dict_l2[i] = level_2_list[int(i)]"
   ]
  },
  {
   "cell_type": "code",
   "execution_count": null,
   "id": "a087ca2d-efbb-44a3-a0f6-5e8da92e9946",
   "metadata": {},
   "outputs": [],
   "source": [
    "# assign cell type to sdata\n",
    "sdata.obs = sdata.obs.replace({'level_2': transfer_dict_l2})"
   ]
  },
  {
   "cell_type": "code",
   "execution_count": null,
   "id": "e2312a03-d041-41ca-beba-994688498334",
   "metadata": {},
   "outputs": [],
   "source": [
    "# create variable category for level 2 t cells annotation \n",
    "current_order = ['T cells', 'CD4+ T cells', 'CD8+ T cells', 'NA']\n",
    "sdata.obs['level_2'] = sdata.obs['level_2'].astype('category')\n",
    "sdata.obs['level_2'] = sdata.obs['level_2'].cat.reorder_categories(current_order)"
   ]
  },
  {
   "cell_type": "code",
   "execution_count": null,
   "id": "d80ad852-3039-410b-b774-b570d83d79db",
   "metadata": {},
   "outputs": [],
   "source": [
    "# create color palette for visualization\n",
    "current_pl = sns.color_palette('tab10', len(current_order))\n",
    "current_cmap = ListedColormap(current_pl.as_hex())\n",
    "sns.palplot(current_pl)\n",
    "plt.xticks(range(len(current_order)), current_order, size=10, rotation=45)\n",
    "plt.tight_layout()\n",
    "# plt.savefig(os.path.join(fig_path, 'level_2_palette.pdf'))\n",
    "plt.show()"
   ]
  },
  {
   "cell_type": "code",
   "execution_count": null,
   "id": "52975289-3830-44c2-926b-9a588b2a6387",
   "metadata": {},
   "outputs": [],
   "source": [
    "# visualize cluster frequency under each condition\n",
    "condition_counts =  pd.DataFrame(cdata.obs['condition'].value_counts())\n",
    "condition_counts_dict = dict(zip(condition_counts.index, condition_counts['count']))\n",
    "\n",
    "plot_cluster_frequency(sdata, groupby='level_2', hue='condition', )\n",
    "plot_cluster_frequency(sdata, groupby='level_2', hue='condition', norm_dict=condition_counts_dict, )"
   ]
  },
  {
   "cell_type": "code",
   "execution_count": null,
   "id": "168f0e85-0ca6-4e24-88ca-8b3b00399e69",
   "metadata": {},
   "outputs": [],
   "source": [
    "# generate gene marker heatmap for level 2 t cells annotation\n",
    "sc.pl.heatmap(sdata, selected_gene_dict, groupby=f'level_2', dendrogram=False, use_raw=False, cmap='bwr', vmin=-4, vmax=4, figsize=(3, 15))\n",
    "sc.pl.matrixplot(sdata, selected_gene_dict, groupby=f'level_2', dendrogram=False, use_raw=False, cmap='bwr', vmin=-4, vmax=4, swap_axes=True, figsize=(5, 6))\n",
    "sc.pl.dotplot(sdata, selected_gene_dict, groupby=f'level_2', dendrogram=False, use_raw=True, cmap='Reds', swap_axes=True,)"
   ]
  },
  {
   "cell_type": "code",
   "execution_count": null,
   "id": "598ab0b9-43ed-42a7-b712-a754f8192cb5",
   "metadata": {
    "scrolled": true
   },
   "outputs": [],
   "source": [
    "# visualize spatial organization of each sample \n",
    "for current_sample in sdata.obs['sample'].cat.categories:\n",
    "    print(current_sample)\n",
    "    current_complete_obs = cdata.obs.loc[cdata.obs['sample'] == current_sample, :]\n",
    "    current_obs = sdata.obs.loc[(sdata.obs['sample'] == current_sample), :]\n",
    "\n",
    "    fig_size = np.array([current_complete_obs['global_x'].max(), current_complete_obs['global_y'].max()]) / 1000\n",
    "    fig, ax = plt.subplots(figsize=fig_size)\n",
    "    sns.scatterplot(x='global_x', y='global_y', data=current_complete_obs, color='#dbdbdb', s=1, linewidth=0, ax=ax)\n",
    "    sns.scatterplot(x='global_x', y='global_y', hue='level_2', data=current_obs, palette='tab10', size=10, linewidth=0, ax=ax)\n",
    "    plt.legend(markerscale=5)\n",
    "    # plt.savefig(os.path.join(output_path, f\"sct_{current_sample}.png\"))\n",
    "    plt.show()"
   ]
  },
  {
   "cell_type": "code",
   "execution_count": null,
   "id": "94d32673-5161-4b99-9eef-a9c7156067ee",
   "metadata": {},
   "outputs": [],
   "source": [
    "# map to original object\n",
    "cdata.obs.loc[sdata.obs.index, 'level_2'] = sdata.obs['level_2'].values"
   ]
  },
  {
   "cell_type": "code",
   "execution_count": null,
   "id": "8dfed808-1f87-4b43-8b17-910cfbb385c7",
   "metadata": {},
   "outputs": [],
   "source": [
    "# remove NA t cells \n",
    "na_index = sdata.obs.loc[sdata.obs['level_2'] == 'NA', :].index\n",
    "cdata.obs.loc[na_index, 'level_1'] = 'NA'"
   ]
  },
  {
   "cell_type": "markdown",
   "id": "5bdc23f6-dc3b-4d70-9598-9cb9abef66e8",
   "metadata": {},
   "source": [
    "#### Macrophages"
   ]
  },
  {
   "cell_type": "code",
   "execution_count": null,
   "id": "6d1c218a-4ac7-41ad-9f1f-20358654c40f",
   "metadata": {},
   "outputs": [],
   "source": [
    "# load gene annotation table\n",
    "gene_annotation = pd.read_csv(os.path.join(base_path, 'documents', 'gene_annotation.csv'))\n",
    "gene_annotation.index = gene_annotation['Gene']\n",
    "selected_genes = gene_annotation.loc[gene_annotation['Level_2_binary_macrophages'] == True, 'Gene'].to_list()\n",
    "current_order = gene_annotation.loc[gene_annotation['Level_2_binary_macrophages'] == True, 'Level_2_annotation_macrophages'].unique()\n",
    "\n",
    "print(f\"Selected genes: {len(selected_genes)}\")\n",
    "print(current_order)"
   ]
  },
  {
   "cell_type": "code",
   "execution_count": null,
   "id": "3a806dec-d026-4398-9b89-cd8db8584fba",
   "metadata": {},
   "outputs": [],
   "source": [
    "# create gene marker dictionary\n",
    "selected_gene_dict = {}\n",
    "for current_type in current_order:\n",
    "    selected_gene_dict[current_type] = gene_annotation.loc[(gene_annotation['Level_2_binary_macrophages'] == True) & (gene_annotation['Level_2_annotation_macrophages'] == current_type), 'Gene'].to_list()\n",
    "\n",
    "selected_gene_dict"
   ]
  },
  {
   "cell_type": "code",
   "execution_count": null,
   "id": "8bb3bacf-110e-481c-a0fb-08548d2703e0",
   "metadata": {},
   "outputs": [],
   "source": [
    "# subset data\n",
    "sdata = cdata[cdata.obs['level_1'] == 'Macrophages', selected_genes]\n",
    "sdata"
   ]
  },
  {
   "cell_type": "code",
   "execution_count": null,
   "id": "a02a5d57-060e-4b2b-a37a-239b439ae585",
   "metadata": {},
   "outputs": [],
   "source": [
    "# Kmeans elbow\n",
    "distorsions = []\n",
    "for k in range(2, 20):\n",
    "    kmeans = KMeans(n_clusters=k)\n",
    "    kmeans.fit(sdata.X)\n",
    "    distorsions.append(kmeans.inertia_)\n",
    "\n",
    "fig = plt.figure(figsize=(15, 5))\n",
    "plt.plot(range(2, 20), distorsions)\n",
    "plt.grid(True)\n",
    "plt.title('Elbow curve')"
   ]
  },
  {
   "cell_type": "code",
   "execution_count": null,
   "id": "b17bc7f2-aba2-482b-b571-06e1040f7e94",
   "metadata": {},
   "outputs": [],
   "source": [
    "# kmeans\n",
    "k = 5\n",
    "kmeans = KMeans(n_clusters=k, random_state=5).fit(sdata.X)\n",
    "sdata.obs[f'kmeans{k}'] = kmeans.labels_.astype(str)\n",
    "\n",
    "sc.pl.heatmap(sdata, selected_gene_dict, groupby=f'kmeans{k}', dendrogram=False, use_raw=False, cmap='bwr', vmin=-4, vmax=4)\n",
    "sc.pl.matrixplot(sdata, selected_gene_dict, groupby=f'kmeans{k}', dendrogram=False, use_raw=False, cmap='bwr', vmin=-4, vmax=4, swap_axes=True)\n",
    "sc.pl.matrixplot(sdata, selected_gene_dict, groupby=f'kmeans{k}', dendrogram=False, use_raw=True, vmax=2, swap_axes=True)"
   ]
  },
  {
   "cell_type": "markdown",
   "id": "3e2ba1f6-2a38-4448-a51e-6d4a4884c5ca",
   "metadata": {},
   "source": [
    "##### Assign cell types"
   ]
  },
  {
   "cell_type": "code",
   "execution_count": null,
   "id": "230601c5-4946-4e8e-878d-ef80738e0c77",
   "metadata": {},
   "outputs": [],
   "source": [
    "# create backup for kmeans label\n",
    "sdata.obs['level_2'] = sdata.obs[f'kmeans{k}'].values"
   ]
  },
  {
   "cell_type": "code",
   "execution_count": null,
   "id": "74ce7fff-768b-4f59-85a0-f4500625cb28",
   "metadata": {},
   "outputs": [],
   "source": [
    "# change cluster label to cell type label\n",
    "transfer_dict_l2 = {}\n",
    "\n",
    "# Level_2\n",
    "level_2_list = [\n",
    "    'Macrophages', #0\n",
    "    'Monocytes', #1\n",
    "    'Macrophages', #2\n",
    "    'Activated Macrophages', #3\n",
    "    'Macrophages', #4\n",
    "]\n",
    "\n",
    "# construct transfer dict\n",
    "for i in sorted(sdata.obs[f'kmeans{k}'].unique()):\n",
    "    transfer_dict_l2[i] = level_2_list[int(i)]"
   ]
  },
  {
   "cell_type": "code",
   "execution_count": null,
   "id": "8735e471-4d7f-497c-a7b6-2dbdaddb62bf",
   "metadata": {},
   "outputs": [],
   "source": [
    "# assign cell type to sdata\n",
    "sdata.obs = sdata.obs.replace({'level_2': transfer_dict_l2})"
   ]
  },
  {
   "cell_type": "code",
   "execution_count": null,
   "id": "d7194a40-ed73-4340-ab10-0c94c874ebd7",
   "metadata": {},
   "outputs": [],
   "source": [
    "# create variable category for level 2 macrophage annotation \n",
    "current_order = ['Macrophages', 'Activated Macrophages', 'Monocytes']\n",
    "sdata.obs['level_2'] = sdata.obs['level_2'].astype('category')\n",
    "sdata.obs['level_2'] = sdata.obs['level_2'].cat.reorder_categories(current_order)"
   ]
  },
  {
   "cell_type": "code",
   "execution_count": null,
   "id": "cb3bbaee-a89f-4a75-81cd-a99c0437111e",
   "metadata": {},
   "outputs": [],
   "source": [
    "# create color palette for visualization\n",
    "current_pl = sns.color_palette('tab10', len(current_order))\n",
    "current_cmap = ListedColormap(current_pl.as_hex())\n",
    "sns.palplot(current_pl)\n",
    "plt.xticks(range(len(current_order)), current_order, size=10, rotation=45)\n",
    "plt.tight_layout()\n",
    "# plt.savefig(os.path.join(fig_path, 'level_2_palette.pdf'))\n",
    "plt.show()"
   ]
  },
  {
   "cell_type": "code",
   "execution_count": null,
   "id": "c6181cac-d8c4-4e4f-ae9f-49d3b68b6c88",
   "metadata": {},
   "outputs": [],
   "source": [
    "# visualize cluster frequency under each condition\n",
    "condition_counts =  pd.DataFrame(cdata.obs['condition'].value_counts())\n",
    "condition_counts_dict = dict(zip(condition_counts.index, condition_counts['count']))\n",
    "\n",
    "plot_cluster_frequency(sdata, groupby='level_2', hue='condition', )\n",
    "plot_cluster_frequency(sdata, groupby='level_2', hue='condition', norm_dict=condition_counts_dict, )"
   ]
  },
  {
   "cell_type": "code",
   "execution_count": null,
   "id": "9835b83b-f084-44ad-8078-16c8bd81567d",
   "metadata": {},
   "outputs": [],
   "source": [
    "# create gene marker dictionary\n",
    "selected_gene_dict = {}\n",
    "for current_type in current_order:\n",
    "    if current_type != 'NA':\n",
    "        selected_gene_dict[current_type] = gene_annotation.loc[(gene_annotation['Level_2_binary_macrophages'] == True) & (gene_annotation['Level_2_annotation_macrophages'] == current_type), 'Gene'].to_list()\n",
    "\n",
    "selected_gene_dict"
   ]
  },
  {
   "cell_type": "code",
   "execution_count": null,
   "id": "2426afc6-4e6b-4961-bb5c-d7d02138bed5",
   "metadata": {},
   "outputs": [],
   "source": [
    "# generate gene marker heatmap for level 2 macrophage annotation\n",
    "sc.pl.heatmap(sdata, selected_gene_dict, groupby=f'level_2', dendrogram=False, use_raw=False, cmap='bwr', vmin=-4, vmax=4, figsize=(3, 15))\n",
    "sc.pl.dotplot(sdata, selected_gene_dict, groupby=f'level_2', dendrogram=False, use_raw=False, cmap='bwr', vmin=-4, vmax=4, swap_axes=True)\n",
    "sc.pl.dotplot(sdata, selected_gene_dict, groupby=f'level_2', dendrogram=False, use_raw=False, cmap='Reds', swap_axes=True)"
   ]
  },
  {
   "cell_type": "code",
   "execution_count": null,
   "id": "da7d9b44-b2c8-4928-aeee-851447fa5ea9",
   "metadata": {
    "scrolled": true
   },
   "outputs": [],
   "source": [
    "# visualize spatial organization of each sample \n",
    "for current_sample in sdata.obs['sample'].cat.categories:\n",
    "    print(current_sample)\n",
    "    current_complete_obs = cdata.obs.loc[cdata.obs['sample'] == current_sample, :]\n",
    "    current_obs = sdata.obs.loc[(sdata.obs['sample'] == current_sample), :]\n",
    "\n",
    "    fig_size = np.array([current_complete_obs['global_x'].max(), current_complete_obs['global_y'].max()]) / 1000\n",
    "    fig, ax = plt.subplots(figsize=fig_size)\n",
    "    sns.scatterplot(x='global_x', y='global_y', data=current_complete_obs, color='#dbdbdb', s=1, linewidth=0, ax=ax)\n",
    "    sns.scatterplot(x='global_x', y='global_y', hue='level_2', data=current_obs, palette='tab10', s=5, linewidth=0, ax=ax)\n",
    "    plt.legend(markerscale=3)\n",
    "    # plt.savefig(os.path.join(output_path, f\"sct_{current_sample}.png\"))\n",
    "    plt.show()"
   ]
  },
  {
   "cell_type": "code",
   "execution_count": null,
   "id": "f170a0ec-29ec-4e69-8d4d-7565afbf9ba8",
   "metadata": {},
   "outputs": [],
   "source": [
    "# map to original object\n",
    "cdata.obs.loc[sdata.obs.index, 'level_2'] = sdata.obs['level_2'].values\n",
    "cdata.obs['level_2'].unique()"
   ]
  },
  {
   "cell_type": "markdown",
   "id": "96c90b4e-fc35-4d7b-8e54-d5feabc8f3d4",
   "metadata": {},
   "source": [
    "#### Dendritic cells"
   ]
  },
  {
   "cell_type": "code",
   "execution_count": null,
   "id": "ddc33151-438e-44a5-9c0c-60c7675eeec6",
   "metadata": {},
   "outputs": [],
   "source": [
    "# load gene annotation table\n",
    "gene_annotation = pd.read_csv(os.path.join(base_path, 'documents', 'gene_annotation.csv'))\n",
    "gene_annotation.index = gene_annotation['Gene']\n",
    "selected_genes = gene_annotation.loc[gene_annotation['Level_2_binary_dendritic_cells'] == True, 'Gene'].to_list()\n",
    "current_order = gene_annotation.loc[gene_annotation['Level_2_binary_dendritic_cells'] == True, 'Level_2_annotation_dendritic_cells'].unique()\n",
    "\n",
    "print(f\"Selected genes: {len(selected_genes)}\")\n",
    "print(current_order)"
   ]
  },
  {
   "cell_type": "code",
   "execution_count": null,
   "id": "fe22d3bc-f786-4062-b022-5423c2efd6ac",
   "metadata": {},
   "outputs": [],
   "source": [
    "# create gene marker dictionary\n",
    "selected_gene_dict = {}\n",
    "for current_type in current_order:\n",
    "    selected_gene_dict[current_type] = gene_annotation.loc[(gene_annotation['Level_2_binary_dendritic_cells'] == True) & (gene_annotation['Level_2_annotation_dendritic_cells'] == current_type), 'Gene'].to_list()\n",
    "\n",
    "selected_gene_dict"
   ]
  },
  {
   "cell_type": "code",
   "execution_count": null,
   "id": "9eee0473-21e0-412e-a871-14596b191979",
   "metadata": {},
   "outputs": [],
   "source": [
    "# subset data\n",
    "sdata = cdata[cdata.obs['level_1'] == 'Dendritic cells', selected_genes]\n",
    "sdata"
   ]
  },
  {
   "cell_type": "code",
   "execution_count": null,
   "id": "9b3c9900-8327-439e-aeb7-140d37221129",
   "metadata": {},
   "outputs": [],
   "source": [
    "# Kmeans elbow\n",
    "distorsions = []\n",
    "for k in range(2, 20):\n",
    "    kmeans = KMeans(n_clusters=k)\n",
    "    kmeans.fit(sdata.X)\n",
    "    distorsions.append(kmeans.inertia_)\n",
    "\n",
    "fig = plt.figure(figsize=(15, 5))\n",
    "plt.plot(range(2, 20), distorsions)\n",
    "plt.grid(True)\n",
    "plt.title('Elbow curve')"
   ]
  },
  {
   "cell_type": "code",
   "execution_count": null,
   "id": "448687d6-5f3b-4d68-8910-d5c110f8a02d",
   "metadata": {},
   "outputs": [],
   "source": [
    "# kmeans\n",
    "k = 4\n",
    "kmeans = KMeans(n_clusters=k, random_state=5).fit(sdata.X)\n",
    "sdata.obs[f'kmeans{k}'] = kmeans.labels_.astype(str)\n",
    "\n",
    "sc.pl.heatmap(sdata, selected_gene_dict, groupby=f'kmeans{k}', dendrogram=False, use_raw=False, cmap='bwr', vmin=-4, vmax=4)\n",
    "sc.pl.matrixplot(sdata, selected_gene_dict, groupby=f'kmeans{k}', dendrogram=False, use_raw=False, cmap='bwr', vmin=-4, vmax=4, swap_axes=True)\n",
    "sc.pl.matrixplot(sdata, selected_gene_dict, groupby=f'kmeans{k}', dendrogram=False, use_raw=True, vmax=2, swap_axes=True)"
   ]
  },
  {
   "cell_type": "markdown",
   "id": "005c206a-7e1c-4fc9-ac37-f6d4547008cf",
   "metadata": {},
   "source": [
    "##### Assign cell types"
   ]
  },
  {
   "cell_type": "code",
   "execution_count": null,
   "id": "34d67457-0c11-4ddc-8f5b-16d44269f02a",
   "metadata": {},
   "outputs": [],
   "source": [
    "# create backup for kmeans label\n",
    "sdata.obs['level_2'] = sdata.obs[f'kmeans{k}'].values"
   ]
  },
  {
   "cell_type": "code",
   "execution_count": null,
   "id": "e233f8ea-ce2f-4328-8de3-09d2ab3a9929",
   "metadata": {},
   "outputs": [],
   "source": [
    "# change cluster label to cell type label\n",
    "transfer_dict_l2 = {}\n",
    "\n",
    "# Level_2\n",
    "level_2_list = [\n",
    "    'cDC1', #0\n",
    "    'cDC2', #1\n",
    "    'Other Dendritic cells', #2\n",
    "    'Other Dendritic cells', #3\n",
    "]\n",
    "\n",
    "# construct transfer dict\n",
    "for i in sorted(sdata.obs[f'kmeans{k}'].unique()):\n",
    "    transfer_dict_l2[i] = level_2_list[int(i)]"
   ]
  },
  {
   "cell_type": "code",
   "execution_count": null,
   "id": "b5c7eb05-8193-42ac-82d4-bf08836ee0bc",
   "metadata": {},
   "outputs": [],
   "source": [
    "# assign cell type to sdata\n",
    "sdata.obs = sdata.obs.replace({'level_2': transfer_dict_l2})"
   ]
  },
  {
   "cell_type": "code",
   "execution_count": null,
   "id": "425ef282-1fee-4760-a780-f83e3cc162a7",
   "metadata": {},
   "outputs": [],
   "source": [
    "# create variable category for level 2 dendritic cells annotation\n",
    "current_order = ['Other Dendritic cells', 'cDC1', 'cDC2']\n",
    "sdata.obs['level_2'] = sdata.obs['level_2'].astype('category')\n",
    "sdata.obs['level_2'] = sdata.obs['level_2'].cat.reorder_categories(current_order)"
   ]
  },
  {
   "cell_type": "code",
   "execution_count": null,
   "id": "2a9504d3-ed62-4998-b27f-898f3389c595",
   "metadata": {},
   "outputs": [],
   "source": [
    "# create color palette for visualization\n",
    "current_pl = sns.color_palette('tab10', len(current_order))\n",
    "current_cmap = ListedColormap(current_pl.as_hex())\n",
    "sns.palplot(current_pl)\n",
    "plt.xticks(range(len(current_order)), current_order, size=10, rotation=45)\n",
    "plt.tight_layout()\n",
    "# plt.savefig(os.path.join(fig_path, 'level_2_palette.pdf'))\n",
    "plt.show()"
   ]
  },
  {
   "cell_type": "code",
   "execution_count": null,
   "id": "5d865364-7bd2-40b0-8a81-37006f3f54f1",
   "metadata": {},
   "outputs": [],
   "source": [
    "# visualize cluster frequency under each condition\n",
    "condition_counts =  pd.DataFrame(cdata.obs['condition'].value_counts())\n",
    "condition_counts_dict = dict(zip(condition_counts.index, condition_counts['count']))\n",
    "\n",
    "plot_cluster_frequency(sdata, groupby='level_2', hue='condition', )\n",
    "plot_cluster_frequency(sdata, groupby='level_2', hue='condition', norm_dict=condition_counts_dict, )"
   ]
  },
  {
   "cell_type": "code",
   "execution_count": null,
   "id": "c7e6057b-fab5-4a29-9867-0d4f9e6e2458",
   "metadata": {},
   "outputs": [],
   "source": [
    "# create gene marker dictionary\n",
    "selected_gene_dict = {}\n",
    "for current_type in current_order:\n",
    "    if current_type != 'NA':\n",
    "        selected_gene_dict[current_type] = gene_annotation.loc[(gene_annotation['Level_2_binary_dendritic_cells'] == True) & (gene_annotation['Level_2_annotation_dendritic_cells'] == current_type), 'Gene'].to_list()\n",
    "\n",
    "selected_gene_dict"
   ]
  },
  {
   "cell_type": "code",
   "execution_count": null,
   "id": "04c46a9f-dc46-46a5-94b1-a1b6e3213f56",
   "metadata": {},
   "outputs": [],
   "source": [
    "# generate gene marker heatmap for level 2 dendritic cell annotation\n",
    "sc.pl.heatmap(sdata, selected_gene_dict, groupby=f'level_2', dendrogram=False, use_raw=False, cmap='bwr', vmin=-4, vmax=4, figsize=(3, 15))\n",
    "sc.pl.matrixplot(sdata, selected_gene_dict, groupby=f'level_2', dendrogram=False, use_raw=False, cmap='bwr', vmin=-4, vmax=4, swap_axes=True)"
   ]
  },
  {
   "cell_type": "code",
   "execution_count": null,
   "id": "7cc8033b-6672-49af-9e39-f358d65ab544",
   "metadata": {
    "editable": true,
    "scrolled": true,
    "slideshow": {
     "slide_type": ""
    },
    "tags": []
   },
   "outputs": [],
   "source": [
    "# visualize spatial organization of each sample \n",
    "for current_sample in sdata.obs['sample'].cat.categories:\n",
    "    print(current_sample)\n",
    "    current_complete_obs = cdata.obs.loc[cdata.obs['sample'] == current_sample, :]\n",
    "    current_obs = sdata.obs.loc[(sdata.obs['sample'] == current_sample), :]\n",
    "\n",
    "    fig_size = np.array([current_complete_obs['global_x'].max(), current_complete_obs['global_y'].max()]) / 1000\n",
    "    fig, ax = plt.subplots(figsize=fig_size)\n",
    "    sns.scatterplot(x='global_x', y='global_y', data=current_complete_obs, color='#dbdbdb', s=1, linewidth=0, ax=ax)\n",
    "    sns.scatterplot(x='global_x', y='global_y', hue='level_2', data=current_obs, palette='tab10', s=5, linewidth=0, ax=ax)\n",
    "    plt.legend(markerscale=3)\n",
    "    # plt.savefig(os.path.join(output_path, f\"sct_{current_sample}.png\"))\n",
    "    plt.show()"
   ]
  },
  {
   "cell_type": "code",
   "execution_count": null,
   "id": "f6824067-1c6e-44ab-a068-c293308b20c0",
   "metadata": {},
   "outputs": [],
   "source": [
    "# map to original object\n",
    "cdata.obs.loc[sdata.obs.index, 'level_2'] = sdata.obs['level_2'].values\n",
    "cdata.obs['level_2'].unique()"
   ]
  },
  {
   "cell_type": "markdown",
   "id": "48a849a5-f0da-4cd9-b6b7-58270191e018",
   "metadata": {},
   "source": [
    "### Level 3"
   ]
  },
  {
   "cell_type": "code",
   "execution_count": null,
   "id": "e616110c-0cff-4c8b-a14e-d89c029dd7e2",
   "metadata": {},
   "outputs": [],
   "source": [
    "# create an empty column for level 3\n",
    "cdata.obs['level_3'] = cdata.obs['level_2'].values\n",
    "cdata.obs['level_3'] = cdata.obs['level_3'].astype(object)"
   ]
  },
  {
   "cell_type": "markdown",
   "id": "acef6c67-b8f5-4750-8a40-e72ffed30da0",
   "metadata": {},
   "source": [
    "#### CD4+/CD8+ T cells"
   ]
  },
  {
   "cell_type": "code",
   "execution_count": null,
   "id": "22cd2ac7-6228-4a95-985b-cc1b62cce2e3",
   "metadata": {},
   "outputs": [],
   "source": [
    "# load gene annotation table\n",
    "gene_annotation = pd.read_csv(os.path.join(base_path, 'documents', 'gene_annotation.csv'))\n",
    "gene_annotation.index = gene_annotation['Gene']\n",
    "selected_genes = gene_annotation.loc[gene_annotation['Level_2_binary_t_cells'] == True, 'Gene'].to_list()\n",
    "current_order = gene_annotation.loc[gene_annotation['Level_2_binary_t_cells'] == True, 'Level_2_annotation_t_cells'].unique()\n",
    "\n",
    "print(f\"Selected genes: {len(selected_genes)}\")\n",
    "print(current_order)"
   ]
  },
  {
   "cell_type": "code",
   "execution_count": null,
   "id": "1c193601-96c1-4298-87c2-1d9ed6b49314",
   "metadata": {},
   "outputs": [],
   "source": [
    "# create gene marker dictionary\n",
    "selected_gene_dict = {}\n",
    "for current_type in current_order:\n",
    "    selected_gene_dict[current_type] = gene_annotation.loc[(gene_annotation['Level_2_binary_t_cells'] == True) & (gene_annotation['Level_2_annotation_t_cells'] == current_type), 'Gene'].to_list()\n",
    "\n",
    "selected_gene_dict"
   ]
  },
  {
   "cell_type": "code",
   "execution_count": null,
   "id": "aa889dfd-2fa7-489f-8e8c-9b1112bdea3b",
   "metadata": {},
   "outputs": [],
   "source": [
    "# subset data\n",
    "sdata = cdata[cdata.obs['level_2'].isin(['CD4+ T cells', 'CD8+ T cells']), selected_genes]\n",
    "sdata"
   ]
  },
  {
   "cell_type": "code",
   "execution_count": null,
   "id": "4a804b19-e5a7-490b-8b93-9200a6cae0a0",
   "metadata": {},
   "outputs": [],
   "source": [
    "# Kmeans elbow\n",
    "distorsions = []\n",
    "for k in range(2, 20):\n",
    "    kmeans = KMeans(n_clusters=k)\n",
    "    kmeans.fit(sdata.X)\n",
    "    distorsions.append(kmeans.inertia_)\n",
    "\n",
    "fig = plt.figure(figsize=(15, 5))\n",
    "plt.plot(range(2, 20), distorsions)\n",
    "plt.grid(True)\n",
    "plt.title('Elbow curve')"
   ]
  },
  {
   "cell_type": "code",
   "execution_count": null,
   "id": "4c58ab6a-600d-4adb-b41d-979b218517c0",
   "metadata": {
    "scrolled": true
   },
   "outputs": [],
   "source": [
    "# # test k selection\n",
    "# for i in range(50):\n",
    "#     print(i)\n",
    "#     kmeans = KMeans(n_clusters=25, random_state=i).fit(X_pca)\n",
    "#     sdata.obs[f'kmeans{k}'] = kmeans.labels_.astype(str)\n",
    "#     sc.pl.matrixplot(sdata, selected_gene_dict, groupby=f'kmeans{k}', dendrogram=False, use_raw=False, cmap='bwr', vmin=-4, vmax=4, swap_axes=True)"
   ]
  },
  {
   "cell_type": "code",
   "execution_count": null,
   "id": "2b29d90b-357c-43a4-ac1a-d5d7dac7b941",
   "metadata": {},
   "outputs": [],
   "source": [
    "# kmeans\n",
    "k = 25\n",
    "kmeans = KMeans(n_clusters=k, random_state=0).fit(sdata.X)\n",
    "sdata.obs[f'kmeans{k}'] = kmeans.labels_.astype(str)\n",
    "\n",
    "sc.pl.heatmap(sdata, selected_gene_dict, groupby=f'kmeans{k}', dendrogram=False, use_raw=False, cmap='bwr', vmin=-4, vmax=4)\n",
    "sc.pl.matrixplot(sdata, selected_gene_dict, groupby=f'kmeans{k}', dendrogram=False, use_raw=False, cmap='bwr', vmin=-4, vmax=4, swap_axes=True)\n",
    "sc.pl.matrixplot(sdata, selected_gene_dict, groupby=f'kmeans{k}', dendrogram=False, use_raw=True, vmax=2, swap_axes=True)\n",
    "sc.pl.dotplot(sdata, selected_gene_dict, groupby=f'kmeans{k}', dendrogram=False, use_raw=True, cmap='Reds', swap_axes=True)"
   ]
  },
  {
   "cell_type": "markdown",
   "id": "c256e860-094b-46d0-9430-5d33063d76e8",
   "metadata": {},
   "source": [
    "##### Assign cell types"
   ]
  },
  {
   "cell_type": "code",
   "execution_count": null,
   "id": "9895687c-fce1-4ac0-974a-633ead09405f",
   "metadata": {},
   "outputs": [],
   "source": [
    "# create backup for kmeans label\n",
    "sdata.obs['level_3'] = sdata.obs[f'kmeans{k}'].values"
   ]
  },
  {
   "cell_type": "code",
   "execution_count": null,
   "id": "b4c8af24-0acb-491c-abfc-6f38244c28ce",
   "metadata": {},
   "outputs": [],
   "source": [
    "# change cluster label to cell type label\n",
    "transfer_dict_l3 = {}\n",
    "\n",
    "# Level_3\n",
    "level_3_list = [\n",
    "    'Naive CD8+ T cells', #0\n",
    "    'Naive CD4+ T cells', #1\n",
    "    'Naive CD4+ T cells', #2\n",
    "    'CD8+ T cells', #3\n",
    "    'CD8+ T cells', #4\n",
    "    'Th17', #5 \n",
    "    'PD-1+ T cells', #6\n",
    "    'CD8+ T cells', #7\n",
    "    'Treg', #8\n",
    "    'Th1', #9\n",
    "    'CD4+ T cells', #10 \n",
    "    'CD4+ T cells', #11\n",
    "    'Naive CD4+ T cells', #12\n",
    "    'Th2', #13\n",
    "    'CD8+ T cells', #14\n",
    "    'Naive CD8+ T cells', #15\n",
    "    'Naive CD4+ T cells', #16\n",
    "    'Treg', #17\n",
    "    'Th1', #18\n",
    "    'CD8+ T cells', #19\n",
    "    'Naive CD8+ T cells', #20\n",
    "    'Treg', #21\n",
    "    'PD-1+ T cells', #22\n",
    "    'Naive CD4+ T cells', #23\n",
    "    'CD4+ T cells', #24\n",
    "]\n",
    "\n",
    "# construct transfer dict\n",
    "for i in sorted(sdata.obs[f'kmeans{k}'].unique()):\n",
    "    transfer_dict_l3[i] = level_3_list[int(i)]"
   ]
  },
  {
   "cell_type": "code",
   "execution_count": null,
   "id": "75b1c842-825a-4af7-b134-eddcbacc96ec",
   "metadata": {},
   "outputs": [],
   "source": [
    "# assign cell type to sdata\n",
    "sdata.obs = sdata.obs.replace({'level_3': transfer_dict_l3})"
   ]
  },
  {
   "cell_type": "code",
   "execution_count": null,
   "id": "775e97e3-17eb-49c9-af1d-4181234dde9a",
   "metadata": {},
   "outputs": [],
   "source": [
    "# create variable category for level 3 t cell annotation \n",
    "current_order = ['CD8+ T cells', 'CD4+ T cells', 'Treg', 'Th1', 'Th2', 'Th17', 'Naive CD8+ T cells', 'Naive CD4+ T cells', 'PD-1+ T cells']\n",
    "sdata.obs['level_3'] = sdata.obs['level_3'].astype('category')\n",
    "sdata.obs['level_3'] = sdata.obs['level_3'].cat.reorder_categories(current_order)"
   ]
  },
  {
   "cell_type": "code",
   "execution_count": null,
   "id": "ae325489-bc48-4e53-b0b2-9ec86cc1091e",
   "metadata": {
    "scrolled": true
   },
   "outputs": [],
   "source": [
    "# create color palette for visualization\n",
    "current_pl = sns.color_palette('tab20', len(current_order))\n",
    "current_cmap = ListedColormap(current_pl.as_hex())\n",
    "sns.palplot(current_pl)\n",
    "plt.xticks(range(len(current_order)), current_order, size=10, rotation=45)\n",
    "plt.tight_layout()\n",
    "# plt.savefig(os.path.join(fig_path, 'level_2_palette.pdf'))\n",
    "plt.show()"
   ]
  },
  {
   "cell_type": "code",
   "execution_count": null,
   "id": "d42e50e5-1c77-41b2-a2bc-ef9559fad524",
   "metadata": {},
   "outputs": [],
   "source": [
    "# visualize cluster frequency under each condition\n",
    "condition_counts =  pd.DataFrame(cdata.obs['condition'].value_counts())\n",
    "condition_counts_dict = dict(zip(condition_counts.index, condition_counts['count']))\n",
    "\n",
    "plot_cluster_frequency(sdata, groupby='level_3', hue='condition', )\n",
    "plot_cluster_frequency(sdata, groupby='level_3', hue='condition', norm_dict=condition_counts_dict, )"
   ]
  },
  {
   "cell_type": "code",
   "execution_count": null,
   "id": "aba83cd3-918b-434b-81a9-36e0cda46430",
   "metadata": {},
   "outputs": [],
   "source": [
    "# create gene marker dictionary\n",
    "selected_gene_dict = {'T cells': ['Cd3d', 'Cd3e', 'Cd3g'],\n",
    " 'CD8 T cells': ['Cd8a'],\n",
    " 'CD4 T cells': ['Cd4'],\n",
    " 'Treg': ['Foxp3', 'Il2ra'],\n",
    " 'Th1': ['Ifng', 'Tbx21'],\n",
    " 'Th2': ['Il4'],\n",
    " 'Th17': ['Il17a'],\n",
    " 'Naive T cells': [\"Sell\", \"Ccr7\", \"Lef1\"],\n",
    " 'PD-1+ T cells': ['Pdcd1']}"
   ]
  },
  {
   "cell_type": "code",
   "execution_count": null,
   "id": "4f3cd084-075b-45a9-8ea8-f4c6a9952a9b",
   "metadata": {},
   "outputs": [],
   "source": [
    "# generate gene marker heatmap for level 3 t cell annotation\n",
    "sc.pl.heatmap(sdata, selected_gene_dict, groupby=f'level_3', dendrogram=False, use_raw=False, cmap='bwr', vmin=-4, vmax=4, figsize=(3, 15))\n",
    "sc.pl.matrixplot(sdata, selected_gene_dict, groupby=f'level_3', dendrogram=False, use_raw=False, cmap='bwr', vmin=-4, vmax=4, swap_axes=True, figsize=(5, 6))\n",
    "sc.pl.dotplot(sdata, selected_gene_dict, groupby=f'level_3', dendrogram=False, use_raw=True, cmap='Reds', swap_axes=True)"
   ]
  },
  {
   "cell_type": "code",
   "execution_count": null,
   "id": "531f2260-05e2-4de6-a12f-145c3767cd06",
   "metadata": {
    "editable": true,
    "scrolled": true,
    "slideshow": {
     "slide_type": ""
    },
    "tags": []
   },
   "outputs": [],
   "source": [
    "# visualize spatial organization of each sample \n",
    "for current_sample in sdata.obs['sample'].cat.categories:\n",
    "    print(current_sample)\n",
    "    current_complete_obs = cdata.obs.loc[cdata.obs['sample'] == current_sample, :]\n",
    "    current_obs = sdata.obs.loc[(sdata.obs['sample'] == current_sample), :]\n",
    "\n",
    "    fig_size = np.array([current_complete_obs['global_x'].max(), current_complete_obs['global_y'].max()]) / 1000\n",
    "    fig, ax = plt.subplots(figsize=fig_size)\n",
    "    sns.scatterplot(x='global_x', y='global_y', data=current_complete_obs, color='#dbdbdb', s=1, linewidth=0, ax=ax)\n",
    "    sns.scatterplot(x='global_x', y='global_y', hue='level_3', data=current_obs, palette='tab20', size=10, linewidth=0, ax=ax)\n",
    "    # plt.savefig(os.path.join(output_path, f\"sct_{current_sample}.png\"))\n",
    "    plt.show()"
   ]
  },
  {
   "cell_type": "code",
   "execution_count": null,
   "id": "bedb91ad-9dac-4653-8d5e-c5791eb3de6b",
   "metadata": {},
   "outputs": [],
   "source": [
    "# Map to original obj\n",
    "cdata.obs.loc[sdata.obs.index, 'level_3'] = sdata.obs['level_3'].values\n",
    "cdata.obs['level_3'].unique()"
   ]
  },
  {
   "cell_type": "markdown",
   "id": "6eda3ffe-6e3d-42b9-b3c8-29ad4c942813",
   "metadata": {},
   "source": [
    "### APCs"
   ]
  },
  {
   "cell_type": "code",
   "execution_count": null,
   "id": "573d7b81-6821-4c9d-b8d5-c450431f2f71",
   "metadata": {},
   "outputs": [],
   "source": [
    "# create an empty column for APC\n",
    "cdata.obs['APC'] = 'NA'"
   ]
  },
  {
   "cell_type": "code",
   "execution_count": null,
   "id": "b43d9057-205f-4389-9d15-dcf03ddda4b4",
   "metadata": {},
   "outputs": [],
   "source": [
    "# create gene marker dictionary\n",
    "current_order = ['APC', 'Non-APC']\n",
    "selected_genes = ['Cd40', 'Cd86', 'Ccr7', 'H2-K1']\n",
    "selected_gene_dict = {'APC': selected_genes}\n",
    "selected_gene_dict"
   ]
  },
  {
   "cell_type": "code",
   "execution_count": null,
   "id": "30192d25-6dd9-4393-a51a-dec67386776f",
   "metadata": {},
   "outputs": [],
   "source": [
    "# subset data\n",
    "sdata = cdata[cdata.obs['level_1'].isin(['Dendritic cells', 'B cells', 'Macrophages']), selected_genes]\n",
    "sdata"
   ]
  },
  {
   "cell_type": "code",
   "execution_count": null,
   "id": "b6923e88-780b-4019-9a35-355c061b69d6",
   "metadata": {},
   "outputs": [],
   "source": [
    "# Kmeans elbow\n",
    "distorsions = []\n",
    "for k in range(2, 20):\n",
    "    kmeans = KMeans(n_clusters=k)\n",
    "    kmeans.fit(sdata.X)\n",
    "    distorsions.append(kmeans.inertia_)\n",
    "\n",
    "fig = plt.figure(figsize=(15, 5))\n",
    "plt.plot(range(2, 20), distorsions)\n",
    "plt.grid(True)\n",
    "plt.title('Elbow curve')"
   ]
  },
  {
   "cell_type": "code",
   "execution_count": null,
   "id": "6446c56e-eb4d-4f92-a728-3ca8f60df01c",
   "metadata": {},
   "outputs": [],
   "source": [
    "# kmeans\n",
    "k = 6\n",
    "kmeans = KMeans(n_clusters=k, random_state=10).fit(sdata.X)\n",
    "sdata.obs[f'kmeans{k}'] = kmeans.labels_.astype(str)\n",
    "\n",
    "sc.pl.heatmap(sdata, selected_gene_dict, groupby=f'kmeans{k}', dendrogram=False, use_raw=False, cmap='bwr', vmin=-4, vmax=4)\n",
    "sc.pl.matrixplot(sdata, selected_gene_dict, groupby=f'kmeans{k}', dendrogram=False, use_raw=False, cmap='bwr', vmin=-4, vmax=4, swap_axes=True)\n",
    "sc.pl.matrixplot(sdata, selected_gene_dict, groupby=f'kmeans{k}', dendrogram=False, use_raw=True, vmax=2, swap_axes=True)"
   ]
  },
  {
   "cell_type": "markdown",
   "id": "997e7155-2770-46da-aba3-b6540380c714",
   "metadata": {},
   "source": [
    "##### assign cell types"
   ]
  },
  {
   "cell_type": "code",
   "execution_count": null,
   "id": "5b2283a4-f1b3-4bad-a295-e9d665f3eecc",
   "metadata": {},
   "outputs": [],
   "source": [
    "# create backup for kmeans label\n",
    "sdata.obs['APC'] = sdata.obs[f'kmeans{k}'].values"
   ]
  },
  {
   "cell_type": "code",
   "execution_count": null,
   "id": "f6916c04-1f63-43b5-9f60-d42036744adb",
   "metadata": {},
   "outputs": [],
   "source": [
    "# change cluster label to cell type label\n",
    "transfer_dict_apc = {}\n",
    "\n",
    "# apc\n",
    "apc_list = [\n",
    "    'Non-APC', #0\n",
    "    'APC', #1\n",
    "    'APC', #2\n",
    "    'APC', #3\n",
    "    'APC', #4\n",
    "    'APC', #5\n",
    "]\n",
    "\n",
    "# construct transfer dict\n",
    "for i in sorted(sdata.obs[f'kmeans{k}'].unique()):\n",
    "    transfer_dict_apc[i] = apc_list[int(i)]"
   ]
  },
  {
   "cell_type": "code",
   "execution_count": null,
   "id": "d32790eb-fa3b-4eb1-b08a-20b1438f7bab",
   "metadata": {},
   "outputs": [],
   "source": [
    "# assign cell type to sdata\n",
    "sdata.obs = sdata.obs.replace({'APC': transfer_dict_apc})"
   ]
  },
  {
   "cell_type": "code",
   "execution_count": null,
   "id": "9eaeb001-4701-4a7f-9ab5-91412b664ba2",
   "metadata": {},
   "outputs": [],
   "source": [
    "# get APC category color\n",
    "current_order = ['APC', 'Non-APC']\n",
    "sdata.obs['APC'] = sdata.obs['APC'].astype('category')\n",
    "sdata.obs['APC'] = sdata.obs['APC'].cat.reorder_categories(current_order)"
   ]
  },
  {
   "cell_type": "code",
   "execution_count": null,
   "id": "1abae6ec-939f-4f9f-b276-6fcfabb92644",
   "metadata": {
    "scrolled": true
   },
   "outputs": [],
   "source": [
    "# create color palette\n",
    "current_pl = sns.color_palette('tab10', len(current_order))\n",
    "current_cmap = ListedColormap(current_pl.as_hex())\n",
    "sns.palplot(current_pl)\n",
    "plt.xticks(range(len(current_order)), current_order, size=10, rotation=45)\n",
    "plt.tight_layout()\n",
    "plt.show()"
   ]
  },
  {
   "cell_type": "code",
   "execution_count": null,
   "id": "bf6bf736-9945-46e2-9d32-b0c33b67dfb4",
   "metadata": {},
   "outputs": [],
   "source": [
    "# compare with level2 annotation\n",
    "fig, ax = plt.subplots(figsize=(10, 10))\n",
    "sns.heatmap(pd.crosstab(sdata.obs['level_2'], sdata.obs['APC']), annot=True, fmt='g')"
   ]
  },
  {
   "cell_type": "code",
   "execution_count": null,
   "id": "4f924720-a4c3-42a2-941a-484b7a1ac4fd",
   "metadata": {
    "scrolled": true
   },
   "outputs": [],
   "source": [
    "# visualize spatial organization of each sample \n",
    "for current_sample in sdata.obs['sample'].cat.categories:\n",
    "    print(current_sample)\n",
    "    current_complete_obs = cdata.obs.loc[cdata.obs['sample'] == current_sample, :]\n",
    "    current_obs = sdata.obs.loc[(sdata.obs['sample'] == current_sample), :]\n",
    "    # current_obs = sdata.obs.loc[(sdata.obs['sample'] == current_sample) & (sdata.obs['level_2'] != \"T cells\"), :]\n",
    "\n",
    "    fig_size = np.array([current_complete_obs['global_x'].max(), current_complete_obs['global_y'].max()]) / 1000\n",
    "    fig, ax = plt.subplots(figsize=fig_size)\n",
    "    sns.scatterplot(x='global_x', y='global_y', data=current_complete_obs, color='#dbdbdb', s=1, linewidth=0, ax=ax)\n",
    "    sns.scatterplot(x='global_x', y='global_y', hue='APC', data=current_obs, palette='tab10', size=10, linewidth=0, ax=ax)\n",
    "    # plt.savefig(os.path.join(output_path, f\"sct_{current_sample}.png\"))\n",
    "    plt.show()"
   ]
  },
  {
   "cell_type": "code",
   "execution_count": null,
   "id": "82b6b7a2-91d7-4e5a-bf27-ee40c69295be",
   "metadata": {},
   "outputs": [],
   "source": [
    "# Map to original obj\n",
    "cdata.obs.loc[sdata.obs.index, 'APC'] = sdata.obs['APC'].values"
   ]
  },
  {
   "cell_type": "markdown",
   "id": "d35e4cc7-e2a2-449c-a0b0-93448d489659",
   "metadata": {},
   "source": [
    "## Output"
   ]
  },
  {
   "cell_type": "code",
   "execution_count": null,
   "id": "5a6e170e-2410-4da9-a354-e3bb22da0b26",
   "metadata": {},
   "outputs": [],
   "source": [
    "# output data object with assigned cell types \n",
    "from datetime import datetime\n",
    "date = datetime.today().strftime('%Y-%m-%d')\n",
    "cdata.write_h5ad(f\"{output_path}/{date}-combined-celltyping-LN.h5ad\")"
   ]
  },
  {
   "cell_type": "code",
   "execution_count": null,
   "id": "4b5e39aa-0b29-4286-8d7c-fc75fb7155dc",
   "metadata": {},
   "outputs": [],
   "source": []
  },
  {
   "cell_type": "code",
   "execution_count": null,
   "id": "95b81ba8-b22a-4622-bb6a-c5888f1ee3d0",
   "metadata": {},
   "outputs": [],
   "source": []
  }
 ],
 "metadata": {
  "kernelspec": {
   "display_name": "Python (span_test)",
   "language": "python",
   "name": "span_test"
  }
 },
 "nbformat": 4,
 "nbformat_minor": 5
}
