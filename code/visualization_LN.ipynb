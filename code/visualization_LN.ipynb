{
 "cells": [
  {
   "cell_type": "markdown",
   "id": "078ec14b-d114-4d66-b83c-0a446ca04e30",
   "metadata": {},
   "source": [
    "# Visualization for LN dataset\n",
    "\n",
    "2024-06-10"
   ]
  },
  {
   "cell_type": "code",
   "execution_count": null,
   "id": "67cc11b1-0c73-418f-a712-bd2dd06964ae",
   "metadata": {},
   "outputs": [],
   "source": [
    "# import packages\n",
    "import os\n",
    "import numpy as np\n",
    "import pandas as pd\n",
    "import seaborn as sns\n",
    "import scanpy as sc\n",
    "import matplotlib.pyplot as plt\n",
    "from matplotlib.colors import ListedColormap"
   ]
  },
  {
   "cell_type": "code",
   "execution_count": null,
   "id": "224dc6d9-93c7-4408-899d-fbdb284e9cbd",
   "metadata": {},
   "outputs": [],
   "source": [
    "# load matplotlib to change output figure format\n",
    "import matplotlib\n",
    "matplotlib.rcParams['pdf.fonttype'] = 42\n",
    "matplotlib.rcParams['ps.fonttype'] = 42"
   ]
  },
  {
   "cell_type": "code",
   "execution_count": null,
   "id": "99af9952-fcc3-485c-b374-2eb0eb1d4f09",
   "metadata": {
    "editable": true,
    "slideshow": {
     "slide_type": ""
    },
    "tags": []
   },
   "outputs": [],
   "source": [
    "# ignore jupyter warnings \n",
    "import warnings\n",
    "warnings.filterwarnings('ignore')"
   ]
  },
  {
   "cell_type": "markdown",
   "id": "11a3705e-a662-426e-b3e7-3f995bcc866e",
   "metadata": {},
   "source": [
    "## Input"
   ]
  },
  {
   "cell_type": "code",
   "execution_count": null,
   "id": "77f71f0d-44d2-4be9-aac3-41d0158c8dc4",
   "metadata": {
    "editable": true,
    "slideshow": {
     "slide_type": ""
    },
    "tags": []
   },
   "outputs": [],
   "source": [
    "# define IO path and load data object\n",
    "base_path = './'\n",
    "expr_path = os.path.join(base_path, 'data')\n",
    "\n",
    "output_path = os.path.join(base_path, 'output')\n",
    "if not os.path.exists(output_path): os.makedirs(output_path)\n",
    "fig_path = os.path.join(base_path, \"figures\")\n",
    "if not os.path.exists(fig_path): os.makedirs(fig_path)\n",
    "\n",
    "# load object with cell type lables \n",
    "from datetime import datetime\n",
    "date = datetime.today().strftime('%Y-%m-%d')\n",
    "cdata = sc.read_h5ad(os.path.join(output_path, f'{date}-combined-celltyping-LN.h5ad'))\n",
    "\n",
    "# example\n",
    "# cdata = sc.read_h5ad(os.path.join(output_path, f'2024-06-24-combined-celltyping-LN.h5ad'))\n",
    "cdata"
   ]
  },
  {
   "cell_type": "markdown",
   "id": "bb704490-99b9-49de-88f7-ce7066486ab7",
   "metadata": {
    "editable": true,
    "slideshow": {
     "slide_type": ""
    },
    "tags": []
   },
   "source": [
    "## Add molecular region info"
   ]
  },
  {
   "cell_type": "code",
   "execution_count": null,
   "id": "8e5f7396",
   "metadata": {},
   "outputs": [],
   "source": [
    "# load dataframe with region label from SPIN\n",
    "region_label_df = pd.read_csv(os.path.join(expr_path, 'LN_SPIN_region_label.csv'), index_col=0)\n",
    "region_label_df"
   ]
  },
  {
   "cell_type": "code",
   "execution_count": null,
   "id": "1a7c177f-63d0-419c-88d2-4b5c687333db",
   "metadata": {},
   "outputs": [],
   "source": [
    "# copy label to the cell typing object\n",
    "cdata.obs['region'] = region_label_df.loc[cdata.obs.index, 'region']\n",
    "cdata.obs"
   ]
  },
  {
   "cell_type": "markdown",
   "id": "fe777ad6-9dfd-44ad-bf60-10313b614473",
   "metadata": {},
   "source": [
    "## Add RBD quantification"
   ]
  },
  {
   "cell_type": "code",
   "execution_count": null,
   "id": "a50751d3-5b8f-4943-9c53-90d157a533da",
   "metadata": {},
   "outputs": [],
   "source": [
    "# load dataframe with RBD quantification\n",
    "rbd_counts_df = pd.read_csv(os.path.join(expr_path, 'LN_RBD_quantification.csv'), index_col=0)\n",
    "rbd_counts_df"
   ]
  },
  {
   "cell_type": "code",
   "execution_count": null,
   "id": "0cbdade0-a509-43da-a04f-28513c833a5b",
   "metadata": {},
   "outputs": [],
   "source": [
    "# add RBD quantification to the cell typing object\n",
    "cdata.obs['RBD_count'] = 0\n",
    "overlap_index = rbd_counts_df.index.intersection(cdata.obs.index)\n",
    "cdata.obs.loc[overlap_index, 'RBD_count'] = rbd_counts_df.loc[overlap_index, 'count'].values\n",
    "cdata.obs['RBD_log'] = np.log1p(cdata.obs['RBD_count'])\n",
    "cdata.obs"
   ]
  },
  {
   "cell_type": "markdown",
   "id": "a1ff5c11-5993-45d2-9689-e2db1052c9db",
   "metadata": {},
   "source": [
    "## Colors"
   ]
  },
  {
   "cell_type": "code",
   "execution_count": null,
   "id": "c2642d0f-3b81-4fda-98f4-f1cdc5ac809f",
   "metadata": {},
   "outputs": [],
   "source": [
    "# set plot style\n",
    "plt.style.use('default')\n",
    "\n",
    "# change scanpy plotting settings\n",
    "sc.settings.figdir = fig_path\n",
    "sc.set_figure_params(format='pdf', dpi=150)"
   ]
  },
  {
   "cell_type": "code",
   "execution_count": null,
   "id": "8c25edf5",
   "metadata": {},
   "outputs": [],
   "source": [
    "# create a dictionary for cell type color\n",
    "level_1_dictionary = {\n",
    "    'T cells': '#1a5fd6',\n",
    "    'B cells': '#FBB040',\n",
    "    'Macrophages': '#00A651',\n",
    "    'Dendritic cells': '#92278F',\n",
    "    'NK cells': '#386363',\n",
    "    'Endothelial cells': '#d12852',\n",
    "    'NA': '#dbdbdb'\n",
    "}\n",
    "\n",
    "b_cell_dictionary = {\n",
    "    'B cells': '#FBB040',\n",
    "}\n",
    "\n",
    "rbd_level_1_dictionary = {\n",
    "    'B cells': '#FBB040',\n",
    "    'Macrophages': '#00A651',\n",
    "    'Dendritic cells': '#92278F',\n",
    "}\n",
    "\n",
    "level_2_t_cells_dictionary = {\n",
    "    'CD4+ T cells': '#42cf13',\n",
    "    'CD8+ T cells': '#2a73bd',\n",
    "    'T cells': '#ad7307',\n",
    "}\n",
    "\n",
    "level_2_dc_dictionary = {\n",
    "    'cDC1': '#fa6e52',\n",
    "    'cDC2': '#4164a6',\n",
    "    'Other Dendritic cells': '#b079f2',\n",
    "}\n",
    "\n",
    "level_2_mc_dictionary = {\n",
    "    'Macrophages': '#8120f5',\n",
    "    'Activated Macrophages': '#e0416c',\n",
    "    'Monocytes': '#13ede6',\n",
    "}\n",
    "\n",
    "condition_dictionary = {\n",
    "    'LNA': '#C87E77',\n",
    "    'GG': '#DFDEDE',\n",
    "    'PolyC': '#519AD4',\n",
    "}\n",
    "\n",
    "region_dictionary = {\n",
    "    0: '#f593e9',\n",
    "    1: '#1cd6d6',\n",
    "    2: '#14cc0a',\n",
    "    3: '#ed8e11',\n",
    "}\n",
    "\n",
    "apc_dictionary = {'APC': '#ed3228', 'Non-APC': '#1c5fed'}"
   ]
  },
  {
   "cell_type": "code",
   "execution_count": null,
   "id": "d27e3463",
   "metadata": {},
   "outputs": [],
   "source": [
    "# create palette function\n",
    "def create_palette(category_to_color, fig_path=None, fig_name=None, save=False):\n",
    "\n",
    "    pl = sns.color_palette(category_to_color.values())\n",
    "    cmap = ListedColormap(pl.as_hex())\n",
    "    sns.palplot(pl)\n",
    "    plt.xticks(range(len(category_to_color.keys())), category_to_color.keys(), size=5, rotation=45)\n",
    "    plt.tight_layout()\n",
    "    if save:\n",
    "        plt.savefig(os.path.join(fig_path, fig_name))\n",
    "    plt.show()\n",
    "\n",
    "    return pl, cmap  "
   ]
  },
  {
   "cell_type": "code",
   "execution_count": null,
   "id": "5fe17800",
   "metadata": {},
   "outputs": [],
   "source": [
    "# create palette\n",
    "level_1_pl, level_1_cmap = create_palette(level_1_dictionary)\n",
    "b_cells_pl, b_cells_cmap = create_palette(b_cell_dictionary)\n",
    "rbd_level_1_pl, rbd_level_1_cmap = create_palette(rbd_level_1_dictionary)\n",
    "level_2_t_cells_pl, level_2_t_cells_cmap = create_palette(level_2_t_cells_dictionary)\n",
    "level_2_dc_pl, level_2_dc_cmap = create_palette(level_2_dc_dictionary)\n",
    "level_2_mc_pl, level_2_mc_cmap = create_palette(level_2_mc_dictionary)\n",
    "condition_pl, condition_cmap = create_palette(condition_dictionary)\n",
    "region_pl, region_cmap = create_palette(region_dictionary)\n",
    "apc_pl, apc_cmap = create_palette(apc_dictionary)"
   ]
  },
  {
   "cell_type": "markdown",
   "id": "4a8ca5b1-1813-476e-bcc1-e2e7f33424cc",
   "metadata": {},
   "source": [
    "## Spatial map"
   ]
  },
  {
   "cell_type": "code",
   "execution_count": null,
   "id": "ecdaeb0a",
   "metadata": {},
   "outputs": [],
   "source": [
    "# plot spatial map function\n",
    "def plot_sct(cdata, sample, category, subset_list, palette, bg_data=None, file_name=None, org_size=False, spot_size=5, bg_color='#dbdbdb'):\n",
    "\n",
    "    if bg_data:\n",
    "        current_complete_obs = bg_data.obs.loc[bg_data.obs['sample'] == sample, :].copy()\n",
    "    else:\n",
    "        current_complete_obs = cdata.obs.loc[cdata.obs['sample'] == sample, :].copy()\n",
    "    current_subset_obs = cdata.obs.loc[cdata.obs['sample'] == sample, :].copy()\n",
    "\n",
    "    if subset_list:\n",
    "        current_subset_obs = current_subset_obs.loc[current_complete_obs[category].isin(subset_list), :]\n",
    "        current_subset_obs[category] = current_subset_obs[category].astype(object)\n",
    "        current_subset_obs[category] = current_subset_obs[category].astype('category')\n",
    "        current_subset_obs[category] = current_subset_obs[category].cat.reorder_categories(subset_list)\n",
    "\n",
    "    if org_size:\n",
    "        fig_size = np.array([current_complete_obs['global_x'].max(), current_complete_obs['global_y'].max()]) / 10000 * 3\n",
    "    else:\n",
    "        fig_size = (10,10)\n",
    "\n",
    "    fig, ax = plt.subplots(figsize=fig_size)\n",
    "    sns.scatterplot(x='global_x', y='global_y', data=current_complete_obs, color=bg_color, s=spot_size, linewidth=0, ax=ax, rasterized=True)\n",
    "    sns.scatterplot(x='global_x', y='global_y', hue=category, data=current_subset_obs, palette=palette, s=spot_size, linewidth=0, legend=False, ax=ax, rasterized=True, alpha=.8)\n",
    "    plt.gca().set_aspect('equal')\n",
    "    plt.axis('off')\n",
    "    plt.tight_layout()\n",
    "    plt.savefig(os.path.join(fig_path, file_name), dpi=300)\n",
    "    plt.show()"
   ]
  },
  {
   "cell_type": "code",
   "execution_count": null,
   "id": "2a1bd471",
   "metadata": {},
   "outputs": [],
   "source": [
    "# order plotting categories\n",
    "cdata.obs['level_1'] = cdata.obs['level_1'].astype('category')\n",
    "cdata.obs['level_1'] = cdata.obs['level_1'].cat.reorder_categories(level_1_dictionary.keys())"
   ]
  },
  {
   "cell_type": "code",
   "execution_count": null,
   "id": "040ed8b1",
   "metadata": {},
   "outputs": [],
   "source": [
    "# region\n",
    "for current_sample in cdata.obs['sample'].cat.categories:\n",
    "    print(current_sample)\n",
    "    plot_sct(cdata, current_sample, 'region', [], region_pl, file_name=f'sct_{current_sample}_region.pdf')\n",
    "    plot_sct(cdata, current_sample, 'level_1', [], level_1_pl, file_name=f'sct_{current_sample}_level_1.pdf', bg_color='#edebeb')"
   ]
  },
  {
   "cell_type": "code",
   "execution_count": null,
   "id": "b8b24645",
   "metadata": {},
   "outputs": [],
   "source": [
    "cdata_rbd = cdata[(cdata.obs['RBD_count'] > 0) & (cdata.obs['level_2'] != 'Monocytes'), ]\n",
    "\n",
    "for current_sample in cdata.obs['sample'].cat.categories:\n",
    "    print(current_sample)\n",
    "    plot_sct(cdata_rbd, current_sample, 'level_1', ['B cells', 'Macrophages', 'Dendritic cells'], rbd_level_1_pl, bg_data=cdata, file_name=f'sct_{current_sample}_level_1_rbd.pdf', spot_size=10, bg_color='#edebeb')"
   ]
  },
  {
   "cell_type": "markdown",
   "id": "94f29bf1",
   "metadata": {},
   "source": [
    "## Gene marker"
   ]
  },
  {
   "cell_type": "markdown",
   "id": "30093000",
   "metadata": {},
   "source": [
    "### level_2"
   ]
  },
  {
   "cell_type": "code",
   "execution_count": null,
   "id": "0c1e581b",
   "metadata": {},
   "outputs": [],
   "source": [
    "# create gene marker dictionary\n",
    "level_2_gene_dict = {\n",
    " 'T cells': ['Cd3e', 'Cd3g', 'Cd3d'],\n",
    " 'CD4+ T cells': ['Cd4'],\n",
    " 'CD8+ T cells': ['Cd8a'],\n",
    " 'B cells': ['Cd19', 'Cd22', 'Cd79a', 'Ms4a1'],\n",
    " 'Macrophages': ['Adgre1', 'Itgam'],\n",
    " 'Activated Macrophages': ['Cd68'],\n",
    " 'Monocytes': ['Csf1r', 'Lyz2'],\n",
    " 'cDC1': ['Irf8'],\n",
    " 'cDC2': ['Irf4'],\n",
    " 'Other Dendritic cells': ['Itgax', 'Xcr1'],\n",
    " 'NK cells': ['Ccl5', 'Gzma', 'Nkg7', 'Ptprc'],\n",
    " 'Endothelial cells': ['Cdh5', 'Lrg1', 'Ly6a', 'Pecam1'],\n",
    "}"
   ]
  },
  {
   "cell_type": "code",
   "execution_count": null,
   "id": "af8b7d5e",
   "metadata": {},
   "outputs": [],
   "source": [
    "# subset object for visualization\n",
    "pdata = cdata[cdata.obs['level_1'] != 'NA', ]"
   ]
  },
  {
   "cell_type": "code",
   "execution_count": null,
   "id": "38c4ada3",
   "metadata": {},
   "outputs": [],
   "source": [
    "# reorder category\n",
    "level_2_order = list(level_2_gene_dict.keys())\n",
    "pdata.obs['level_2'] = pdata.obs['level_2'].astype('category')\n",
    "pdata.obs['level_2'] = pdata.obs['level_2'].cat.reorder_categories(level_2_order)"
   ]
  },
  {
   "cell_type": "code",
   "execution_count": null,
   "id": "2f9bc485",
   "metadata": {},
   "outputs": [],
   "source": [
    "# plot dot plot\n",
    "sc.pl.dotplot(pdata, level_2_gene_dict, groupby=f'level_2', dendrogram=False, use_raw=True, cmap='Reds', swap_axes=False, standard_scale='var', save='level_2_var_h')"
   ]
  },
  {
   "cell_type": "markdown",
   "id": "8ab117e3",
   "metadata": {},
   "source": [
    "### RBD"
   ]
  },
  {
   "cell_type": "code",
   "execution_count": null,
   "id": "55d614b7",
   "metadata": {},
   "outputs": [],
   "source": [
    "# create gene marker dictionary\n",
    "rbd_gene_dict_1 = {\n",
    " 'B cells': ['Cd79a'],\n",
    " 'Macrophages': ['Itgam'],\n",
    " 'Activated Macrophages': ['Cd68'],\n",
    " 'cDC1': ['Irf8'],\n",
    " 'cDC2': ['Irf4'],\n",
    " 'Other Dendritic cells': ['Itgax'],\n",
    " 'APC': ['H2-K1']\n",
    "}\n",
    "\n",
    "rbd_gene_dict_2 = {\n",
    " 'APC': ['Cd86', 'Cd40', 'Ccr7'], \n",
    "}\n",
    "\n",
    "rbd_gene_dict_3 = {\n",
    " 'RBD': ['RBD_count']\n",
    "}"
   ]
  },
  {
   "cell_type": "code",
   "execution_count": null,
   "id": "4f4fcd8d",
   "metadata": {},
   "outputs": [],
   "source": [
    "# subset object\n",
    "pdata = cdata[cdata.obs['level_1'].isin(['B cells', 'Dendritic cells', 'Macrophages']), ]\n",
    "pdata = pdata[pdata.obs['level_2'] != 'Monocytes', ]"
   ]
  },
  {
   "cell_type": "code",
   "execution_count": null,
   "id": "49c725d2",
   "metadata": {},
   "outputs": [],
   "source": [
    "# reorder category\n",
    "level_2_order = list(rbd_gene_dict_1.keys())[:-1]\n",
    "pdata.obs['level_2'] = pdata.obs['level_2'].astype('category')\n",
    "pdata.obs['level_2'] = pdata.obs['level_2'].cat.reorder_categories(level_2_order)"
   ]
  },
  {
   "cell_type": "code",
   "execution_count": null,
   "id": "e01d7ee8",
   "metadata": {},
   "outputs": [],
   "source": [
    "# create new category for visualization \n",
    "pdata.obs['type-condition'] = pdata.obs['level_2'].astype(str) + '_' + pdata.obs['condition'].astype(str)\n",
    "\n",
    "current_order = []\n",
    "for i in level_2_order:\n",
    "    for j in ['LNA', 'GG', 'PolyC']:\n",
    "        current_order.append(f\"{i}_{j}\")\n",
    "pdata.obs['type-condition'] = pdata.obs['type-condition'].astype('category')\n",
    "pdata.obs['type-condition'] = pdata.obs['type-condition'].cat.reorder_categories(current_order)"
   ]
  },
  {
   "cell_type": "code",
   "execution_count": null,
   "id": "39bf16ff",
   "metadata": {},
   "outputs": [],
   "source": [
    "# plot dot plot\n",
    "sc.pl.dotplot(pdata, rbd_gene_dict_1, groupby=f'type-condition', dendrogram=False, use_raw=True, cmap='Reds', swap_axes=True, standard_scale='var', save='rbd_var_h_1')\n",
    "sc.pl.dotplot(pdata, rbd_gene_dict_2, groupby=f'type-condition', dendrogram=False, use_raw=True, cmap='Reds', swap_axes=True, standard_scale='var', save='rbd_var_h_2')\n",
    "sc.pl.dotplot(pdata, rbd_gene_dict_3, groupby=f'type-condition', dendrogram=False, use_raw=True, cmap='Reds', swap_axes=True, standard_scale='var', save='rbd_var_h_3')"
   ]
  },
  {
   "cell_type": "code",
   "execution_count": null,
   "id": "45b09d0b",
   "metadata": {},
   "outputs": [],
   "source": []
  }
 ],
 "metadata": {
  "kernelspec": {
   "display_name": "Python (span_test)",
   "language": "python",
   "name": "span_test"
  },
  "language_info": {
   "codemirror_mode": {
    "name": "ipython",
    "version": 3
   },
   "file_extension": ".py",
   "mimetype": "text/x-python",
   "name": "python",
   "nbconvert_exporter": "python",
   "pygments_lexer": "ipython3",
   "version": "3.9.18"
  }
 },
 "nbformat": 4,
 "nbformat_minor": 5
}
